{
 "cells": [
  {
   "cell_type": "code",
   "execution_count": 7,
   "id": "3d800dc3-affd-4d6d-b177-c8e4a1c4d687",
   "metadata": {},
   "outputs": [],
   "source": [
    "#Importing libraries"
   ]
  },
  {
   "cell_type": "code",
   "execution_count": 4,
   "id": "e09d1329-2a87-4dea-852d-c332ca6526fc",
   "metadata": {},
   "outputs": [],
   "source": [
    "import numpy as np\n",
    "import tensorflow as tf\n",
    "from tensorflow.keras.preprocessing.image import ImageDataGenerator"
   ]
  },
  {
   "cell_type": "code",
   "execution_count": 5,
   "id": "c8b5b971-7565-44fc-89af-2bad743d3e85",
   "metadata": {},
   "outputs": [],
   "source": [
    "#Data Processing"
   ]
  },
  {
   "cell_type": "code",
   "execution_count": 6,
   "id": "7ad2216d-55a1-4d8a-b81a-814356ad9465",
   "metadata": {},
   "outputs": [],
   "source": [
    "##Training image processing"
   ]
  },
  {
   "cell_type": "code",
   "execution_count": 7,
   "id": "76a6f598-1346-4f0a-a281-916852dd6680",
   "metadata": {},
   "outputs": [
    {
     "name": "stdout",
     "output_type": "stream",
     "text": [
      "Found 3750 images belonging to 5 classes.\n"
     ]
    }
   ],
   "source": [
    "train_datagen = ImageDataGenerator(\n",
    "                    rescale = 1./255,\n",
    "                    shear_range = 0.2,\n",
    "                    zoom_range = 0.2,\n",
    "                    horizontal_flip = True)\n",
    "training_set = train_datagen.flow_from_directory(\n",
    "                    'training_set',\n",
    "                    target_size = (64, 64),\n",
    "                    batch_size = 32,\n",
    "                    class_mode = 'categorical')"
   ]
  },
  {
   "cell_type": "code",
   "execution_count": 8,
   "id": "a4527e6e-a5d4-402d-9484-2bd2a058a7c1",
   "metadata": {},
   "outputs": [],
   "source": [
    "##Test image processing"
   ]
  },
  {
   "cell_type": "code",
   "execution_count": 9,
   "id": "3841e3e6-7158-4be2-a194-d25f5430b1fa",
   "metadata": {},
   "outputs": [
    {
     "name": "stdout",
     "output_type": "stream",
     "text": [
      "Found 5000 images belonging to 5 classes.\n"
     ]
    }
   ],
   "source": [
    "test_datagen = ImageDataGenerator(\n",
    "                    rescale = 1./255)\n",
    "test_set = test_datagen.flow_from_directory(\n",
    "                    'test_set',\n",
    "                    target_size = (64, 64),\n",
    "                    batch_size = 32,\n",
    "                    class_mode = 'categorical')"
   ]
  },
  {
   "cell_type": "code",
   "execution_count": 10,
   "id": "6c793a71-c3fc-4469-92d8-1d601daac65f",
   "metadata": {},
   "outputs": [],
   "source": [
    "#Building model"
   ]
  },
  {
   "cell_type": "code",
   "execution_count": 11,
   "id": "540fa71e-a730-463b-a074-9626b47d99cf",
   "metadata": {},
   "outputs": [],
   "source": [
    "cnn = tf.keras.models.Sequential()"
   ]
  },
  {
   "cell_type": "code",
   "execution_count": 12,
   "id": "34edd685-c93f-4874-9c22-50bfb4823053",
   "metadata": {},
   "outputs": [],
   "source": [
    "#Building convolution layer"
   ]
  },
  {
   "cell_type": "code",
   "execution_count": 13,
   "id": "a37ab33a-d3f9-454b-8e72-b4d69328d50c",
   "metadata": {},
   "outputs": [
    {
     "name": "stderr",
     "output_type": "stream",
     "text": [
      "C:\\Users\\alexs\\AppData\\Roaming\\Python\\Python311\\site-packages\\keras\\src\\layers\\convolutional\\base_conv.py:107: UserWarning: Do not pass an `input_shape`/`input_dim` argument to a layer. When using Sequential models, prefer using an `Input(shape)` object as the first layer in the model instead.\n",
      "  super().__init__(activity_regularizer=activity_regularizer, **kwargs)\n"
     ]
    }
   ],
   "source": [
    "cnn.add(tf.keras.layers.Conv2D(filters = 64,\n",
    "                              kernel_size = 3,\n",
    "                              activation = 'relu',\n",
    "                              input_shape = [64, 64, 3]))\n",
    "cnn.add(tf.keras.layers.MaxPool2D(pool_size = 2,\n",
    "                                 strides = 2))"
   ]
  },
  {
   "cell_type": "code",
   "execution_count": 14,
   "id": "46e0ae69-f082-4ba4-9007-dcd75e716974",
   "metadata": {},
   "outputs": [],
   "source": [
    "cnn.add(tf.keras.layers.Conv2D(filters = 64,\n",
    "                              kernel_size = 3,\n",
    "                              activation = 'relu'))\n",
    "cnn.add(tf.keras.layers.MaxPool2D(pool_size = 2,\n",
    "                                 strides = 2))"
   ]
  },
  {
   "cell_type": "code",
   "execution_count": 15,
   "id": "367721b2-2b9b-4f62-a72d-b105cf254e51",
   "metadata": {},
   "outputs": [],
   "source": [
    "cnn.add(tf.keras.layers.Dropout(0.5))"
   ]
  },
  {
   "cell_type": "code",
   "execution_count": 16,
   "id": "0ae6e251-eac0-49bf-884d-7e59a029853e",
   "metadata": {},
   "outputs": [],
   "source": [
    "cnn.add(tf.keras.layers.Flatten())"
   ]
  },
  {
   "cell_type": "code",
   "execution_count": 17,
   "id": "2e781100-5636-4a74-91e2-aedfafcdefb6",
   "metadata": {},
   "outputs": [],
   "source": [
    "cnn.add(tf.keras.layers.Dense(units = 128,\n",
    "                             activation = 'relu'))"
   ]
  },
  {
   "cell_type": "code",
   "execution_count": 26,
   "id": "6faee620-af98-44e9-b2a6-b52f487e2dd9",
   "metadata": {},
   "outputs": [],
   "source": [
    "cnn.add(tf.keras.layers.Dense(units = 5,\n",
    "                             activation = 'softmax'))"
   ]
  },
  {
   "cell_type": "code",
   "execution_count": 113,
   "id": "832cb266-b086-49ba-9cc7-188ced28a5b4",
   "metadata": {},
   "outputs": [],
   "source": [
    "cnn.compile(optimizer='rmsprop', \n",
    "            loss='categorical_crossentropy', \n",
    "            metrics=['accuracy'])"
   ]
  },
  {
   "cell_type": "code",
   "execution_count": 29,
   "id": "170b5c39-9681-4f86-a7a5-8d3fe3768247",
   "metadata": {},
   "outputs": [
    {
     "name": "stdout",
     "output_type": "stream",
     "text": [
      "Epoch 1/100\n",
      "\u001b[1m118/118\u001b[0m \u001b[32m━━━━━━━━━━━━━━━━━━━━\u001b[0m\u001b[37m\u001b[0m \u001b[1m60s\u001b[0m 500ms/step - accuracy: 0.6040 - loss: 1.0213 - val_accuracy: 0.6654 - val_loss: 0.8704\n",
      "Epoch 2/100\n",
      "\u001b[1m118/118\u001b[0m \u001b[32m━━━━━━━━━━━━━━━━━━━━\u001b[0m\u001b[37m\u001b[0m \u001b[1m62s\u001b[0m 513ms/step - accuracy: 0.6436 - loss: 0.9392 - val_accuracy: 0.6682 - val_loss: 0.8609\n",
      "Epoch 3/100\n",
      "\u001b[1m118/118\u001b[0m \u001b[32m━━━━━━━━━━━━━━━━━━━━\u001b[0m\u001b[37m\u001b[0m \u001b[1m61s\u001b[0m 508ms/step - accuracy: 0.6630 - loss: 0.8458 - val_accuracy: 0.6458 - val_loss: 0.9082\n",
      "Epoch 4/100\n",
      "\u001b[1m118/118\u001b[0m \u001b[32m━━━━━━━━━━━━━━━━━━━━\u001b[0m\u001b[37m\u001b[0m \u001b[1m60s\u001b[0m 499ms/step - accuracy: 0.6822 - loss: 0.8300 - val_accuracy: 0.7578 - val_loss: 0.6836\n",
      "Epoch 5/100\n",
      "\u001b[1m118/118\u001b[0m \u001b[32m━━━━━━━━━━━━━━━━━━━━\u001b[0m\u001b[37m\u001b[0m \u001b[1m60s\u001b[0m 500ms/step - accuracy: 0.7208 - loss: 0.7523 - val_accuracy: 0.7662 - val_loss: 0.6172\n",
      "Epoch 6/100\n",
      "\u001b[1m118/118\u001b[0m \u001b[32m━━━━━━━━━━━━━━━━━━━━\u001b[0m\u001b[37m\u001b[0m \u001b[1m59s\u001b[0m 493ms/step - accuracy: 0.7350 - loss: 0.7038 - val_accuracy: 0.7986 - val_loss: 0.5640\n",
      "Epoch 7/100\n",
      "\u001b[1m118/118\u001b[0m \u001b[32m━━━━━━━━━━━━━━━━━━━━\u001b[0m\u001b[37m\u001b[0m \u001b[1m59s\u001b[0m 494ms/step - accuracy: 0.7403 - loss: 0.6565 - val_accuracy: 0.7858 - val_loss: 0.5854\n",
      "Epoch 8/100\n",
      "\u001b[1m118/118\u001b[0m \u001b[32m━━━━━━━━━━━━━━━━━━━━\u001b[0m\u001b[37m\u001b[0m \u001b[1m59s\u001b[0m 488ms/step - accuracy: 0.7701 - loss: 0.6015 - val_accuracy: 0.8352 - val_loss: 0.4737\n",
      "Epoch 9/100\n",
      "\u001b[1m118/118\u001b[0m \u001b[32m━━━━━━━━━━━━━━━━━━━━\u001b[0m\u001b[37m\u001b[0m \u001b[1m60s\u001b[0m 494ms/step - accuracy: 0.7845 - loss: 0.5766 - val_accuracy: 0.7500 - val_loss: 0.6695\n",
      "Epoch 10/100\n",
      "\u001b[1m118/118\u001b[0m \u001b[32m━━━━━━━━━━━━━━━━━━━━\u001b[0m\u001b[37m\u001b[0m \u001b[1m60s\u001b[0m 496ms/step - accuracy: 0.7915 - loss: 0.5535 - val_accuracy: 0.8304 - val_loss: 0.4662\n",
      "Epoch 11/100\n",
      "\u001b[1m118/118\u001b[0m \u001b[32m━━━━━━━━━━━━━━━━━━━━\u001b[0m\u001b[37m\u001b[0m \u001b[1m59s\u001b[0m 495ms/step - accuracy: 0.8081 - loss: 0.4977 - val_accuracy: 0.8704 - val_loss: 0.3903\n",
      "Epoch 12/100\n",
      "\u001b[1m118/118\u001b[0m \u001b[32m━━━━━━━━━━━━━━━━━━━━\u001b[0m\u001b[37m\u001b[0m \u001b[1m59s\u001b[0m 491ms/step - accuracy: 0.8289 - loss: 0.4851 - val_accuracy: 0.8872 - val_loss: 0.3429\n",
      "Epoch 13/100\n",
      "\u001b[1m118/118\u001b[0m \u001b[32m━━━━━━━━━━━━━━━━━━━━\u001b[0m\u001b[37m\u001b[0m \u001b[1m59s\u001b[0m 496ms/step - accuracy: 0.8342 - loss: 0.4533 - val_accuracy: 0.8720 - val_loss: 0.3748\n",
      "Epoch 14/100\n",
      "\u001b[1m118/118\u001b[0m \u001b[32m━━━━━━━━━━━━━━━━━━━━\u001b[0m\u001b[37m\u001b[0m \u001b[1m59s\u001b[0m 489ms/step - accuracy: 0.8386 - loss: 0.4434 - val_accuracy: 0.8862 - val_loss: 0.3337\n",
      "Epoch 15/100\n",
      "\u001b[1m118/118\u001b[0m \u001b[32m━━━━━━━━━━━━━━━━━━━━\u001b[0m\u001b[37m\u001b[0m \u001b[1m62s\u001b[0m 514ms/step - accuracy: 0.8535 - loss: 0.3954 - val_accuracy: 0.8742 - val_loss: 0.3582\n",
      "Epoch 16/100\n",
      "\u001b[1m118/118\u001b[0m \u001b[32m━━━━━━━━━━━━━━━━━━━━\u001b[0m\u001b[37m\u001b[0m \u001b[1m59s\u001b[0m 490ms/step - accuracy: 0.8503 - loss: 0.3901 - val_accuracy: 0.8768 - val_loss: 0.3959\n",
      "Epoch 17/100\n",
      "\u001b[1m118/118\u001b[0m \u001b[32m━━━━━━━━━━━━━━━━━━━━\u001b[0m\u001b[37m\u001b[0m \u001b[1m59s\u001b[0m 492ms/step - accuracy: 0.8660 - loss: 0.3778 - val_accuracy: 0.9136 - val_loss: 0.2815\n",
      "Epoch 18/100\n",
      "\u001b[1m118/118\u001b[0m \u001b[32m━━━━━━━━━━━━━━━━━━━━\u001b[0m\u001b[37m\u001b[0m \u001b[1m60s\u001b[0m 496ms/step - accuracy: 0.8780 - loss: 0.3475 - val_accuracy: 0.9226 - val_loss: 0.2617\n",
      "Epoch 19/100\n",
      "\u001b[1m118/118\u001b[0m \u001b[32m━━━━━━━━━━━━━━━━━━━━\u001b[0m\u001b[37m\u001b[0m \u001b[1m71s\u001b[0m 594ms/step - accuracy: 0.8898 - loss: 0.3041 - val_accuracy: 0.8956 - val_loss: 0.3467\n",
      "Epoch 20/100\n",
      "\u001b[1m118/118\u001b[0m \u001b[32m━━━━━━━━━━━━━━━━━━━━\u001b[0m\u001b[37m\u001b[0m \u001b[1m61s\u001b[0m 502ms/step - accuracy: 0.8909 - loss: 0.3093 - val_accuracy: 0.9198 - val_loss: 0.2487\n",
      "Epoch 21/100\n",
      "\u001b[1m118/118\u001b[0m \u001b[32m━━━━━━━━━━━━━━━━━━━━\u001b[0m\u001b[37m\u001b[0m \u001b[1m61s\u001b[0m 503ms/step - accuracy: 0.8821 - loss: 0.3290 - val_accuracy: 0.9294 - val_loss: 0.2177\n",
      "Epoch 22/100\n",
      "\u001b[1m118/118\u001b[0m \u001b[32m━━━━━━━━━━━━━━━━━━━━\u001b[0m\u001b[37m\u001b[0m \u001b[1m60s\u001b[0m 499ms/step - accuracy: 0.8920 - loss: 0.2884 - val_accuracy: 0.9154 - val_loss: 0.2575\n",
      "Epoch 23/100\n",
      "\u001b[1m118/118\u001b[0m \u001b[32m━━━━━━━━━━━━━━━━━━━━\u001b[0m\u001b[37m\u001b[0m \u001b[1m59s\u001b[0m 490ms/step - accuracy: 0.9004 - loss: 0.2926 - val_accuracy: 0.9310 - val_loss: 0.2205\n",
      "Epoch 24/100\n",
      "\u001b[1m118/118\u001b[0m \u001b[32m━━━━━━━━━━━━━━━━━━━━\u001b[0m\u001b[37m\u001b[0m \u001b[1m60s\u001b[0m 495ms/step - accuracy: 0.9013 - loss: 0.2681 - val_accuracy: 0.8214 - val_loss: 0.5308\n",
      "Epoch 25/100\n",
      "\u001b[1m118/118\u001b[0m \u001b[32m━━━━━━━━━━━━━━━━━━━━\u001b[0m\u001b[37m\u001b[0m \u001b[1m60s\u001b[0m 494ms/step - accuracy: 0.9157 - loss: 0.2403 - val_accuracy: 0.9204 - val_loss: 0.2517\n",
      "Epoch 26/100\n",
      "\u001b[1m118/118\u001b[0m \u001b[32m━━━━━━━━━━━━━━━━━━━━\u001b[0m\u001b[37m\u001b[0m \u001b[1m59s\u001b[0m 495ms/step - accuracy: 0.9175 - loss: 0.2294 - val_accuracy: 0.9470 - val_loss: 0.1824\n",
      "Epoch 27/100\n",
      "\u001b[1m118/118\u001b[0m \u001b[32m━━━━━━━━━━━━━━━━━━━━\u001b[0m\u001b[37m\u001b[0m \u001b[1m60s\u001b[0m 496ms/step - accuracy: 0.9130 - loss: 0.2348 - val_accuracy: 0.9056 - val_loss: 0.3225\n",
      "Epoch 28/100\n",
      "\u001b[1m118/118\u001b[0m \u001b[32m━━━━━━━━━━━━━━━━━━━━\u001b[0m\u001b[37m\u001b[0m \u001b[1m60s\u001b[0m 499ms/step - accuracy: 0.9284 - loss: 0.2051 - val_accuracy: 0.9478 - val_loss: 0.1966\n",
      "Epoch 29/100\n",
      "\u001b[1m118/118\u001b[0m \u001b[32m━━━━━━━━━━━━━━━━━━━━\u001b[0m\u001b[37m\u001b[0m \u001b[1m61s\u001b[0m 506ms/step - accuracy: 0.9281 - loss: 0.2206 - val_accuracy: 0.9434 - val_loss: 0.2094\n",
      "Epoch 30/100\n",
      "\u001b[1m118/118\u001b[0m \u001b[32m━━━━━━━━━━━━━━━━━━━━\u001b[0m\u001b[37m\u001b[0m \u001b[1m62s\u001b[0m 509ms/step - accuracy: 0.9309 - loss: 0.2386 - val_accuracy: 0.9476 - val_loss: 0.1910\n",
      "Epoch 31/100\n",
      "\u001b[1m118/118\u001b[0m \u001b[32m━━━━━━━━━━━━━━━━━━━━\u001b[0m\u001b[37m\u001b[0m \u001b[1m61s\u001b[0m 510ms/step - accuracy: 0.9446 - loss: 0.1559 - val_accuracy: 0.9464 - val_loss: 0.2012\n",
      "Epoch 32/100\n",
      "\u001b[1m118/118\u001b[0m \u001b[32m━━━━━━━━━━━━━━━━━━━━\u001b[0m\u001b[37m\u001b[0m \u001b[1m62s\u001b[0m 515ms/step - accuracy: 0.9343 - loss: 0.1873 - val_accuracy: 0.9554 - val_loss: 0.1849\n",
      "Epoch 33/100\n",
      "\u001b[1m118/118\u001b[0m \u001b[32m━━━━━━━━━━━━━━━━━━━━\u001b[0m\u001b[37m\u001b[0m \u001b[1m62s\u001b[0m 512ms/step - accuracy: 0.9373 - loss: 0.1841 - val_accuracy: 0.9578 - val_loss: 0.1673\n",
      "Epoch 34/100\n",
      "\u001b[1m118/118\u001b[0m \u001b[32m━━━━━━━━━━━━━━━━━━━━\u001b[0m\u001b[37m\u001b[0m \u001b[1m66s\u001b[0m 550ms/step - accuracy: 0.9367 - loss: 0.1939 - val_accuracy: 0.9574 - val_loss: 0.1651\n",
      "Epoch 35/100\n",
      "\u001b[1m118/118\u001b[0m \u001b[32m━━━━━━━━━━━━━━━━━━━━\u001b[0m\u001b[37m\u001b[0m \u001b[1m64s\u001b[0m 528ms/step - accuracy: 0.9508 - loss: 0.1500 - val_accuracy: 0.9452 - val_loss: 0.2307\n",
      "Epoch 36/100\n",
      "\u001b[1m118/118\u001b[0m \u001b[32m━━━━━━━━━━━━━━━━━━━━\u001b[0m\u001b[37m\u001b[0m \u001b[1m64s\u001b[0m 535ms/step - accuracy: 0.9412 - loss: 0.1757 - val_accuracy: 0.9484 - val_loss: 0.2209\n",
      "Epoch 37/100\n",
      "\u001b[1m118/118\u001b[0m \u001b[32m━━━━━━━━━━━━━━━━━━━━\u001b[0m\u001b[37m\u001b[0m \u001b[1m61s\u001b[0m 505ms/step - accuracy: 0.9418 - loss: 0.1660 - val_accuracy: 0.9612 - val_loss: 0.1709\n",
      "Epoch 38/100\n",
      "\u001b[1m118/118\u001b[0m \u001b[32m━━━━━━━━━━━━━━━━━━━━\u001b[0m\u001b[37m\u001b[0m \u001b[1m60s\u001b[0m 495ms/step - accuracy: 0.9490 - loss: 0.1368 - val_accuracy: 0.9614 - val_loss: 0.1706\n",
      "Epoch 39/100\n",
      "\u001b[1m118/118\u001b[0m \u001b[32m━━━━━━━━━━━━━━━━━━━━\u001b[0m\u001b[37m\u001b[0m \u001b[1m62s\u001b[0m 517ms/step - accuracy: 0.9523 - loss: 0.1405 - val_accuracy: 0.9580 - val_loss: 0.1855\n",
      "Epoch 40/100\n",
      "\u001b[1m118/118\u001b[0m \u001b[32m━━━━━━━━━━━━━━━━━━━━\u001b[0m\u001b[37m\u001b[0m \u001b[1m58s\u001b[0m 474ms/step - accuracy: 0.9585 - loss: 0.1260 - val_accuracy: 0.9248 - val_loss: 0.2614\n",
      "Epoch 41/100\n",
      "\u001b[1m118/118\u001b[0m \u001b[32m━━━━━━━━━━━━━━━━━━━━\u001b[0m\u001b[37m\u001b[0m \u001b[1m58s\u001b[0m 485ms/step - accuracy: 0.9436 - loss: 0.1735 - val_accuracy: 0.9524 - val_loss: 0.2081\n",
      "Epoch 42/100\n",
      "\u001b[1m118/118\u001b[0m \u001b[32m━━━━━━━━━━━━━━━━━━━━\u001b[0m\u001b[37m\u001b[0m \u001b[1m58s\u001b[0m 478ms/step - accuracy: 0.9571 - loss: 0.1299 - val_accuracy: 0.9574 - val_loss: 0.2006\n",
      "Epoch 43/100\n",
      "\u001b[1m118/118\u001b[0m \u001b[32m━━━━━━━━━━━━━━━━━━━━\u001b[0m\u001b[37m\u001b[0m \u001b[1m57s\u001b[0m 476ms/step - accuracy: 0.9556 - loss: 0.1216 - val_accuracy: 0.9524 - val_loss: 0.2345\n",
      "Epoch 44/100\n",
      "\u001b[1m118/118\u001b[0m \u001b[32m━━━━━━━━━━━━━━━━━━━━\u001b[0m\u001b[37m\u001b[0m \u001b[1m58s\u001b[0m 481ms/step - accuracy: 0.9602 - loss: 0.1400 - val_accuracy: 0.9600 - val_loss: 0.2041\n",
      "Epoch 45/100\n",
      "\u001b[1m118/118\u001b[0m \u001b[32m━━━━━━━━━━━━━━━━━━━━\u001b[0m\u001b[37m\u001b[0m \u001b[1m93s\u001b[0m 781ms/step - accuracy: 0.9556 - loss: 0.1380 - val_accuracy: 0.9604 - val_loss: 0.1943\n",
      "Epoch 46/100\n",
      "\u001b[1m118/118\u001b[0m \u001b[32m━━━━━━━━━━━━━━━━━━━━\u001b[0m\u001b[37m\u001b[0m \u001b[1m58s\u001b[0m 482ms/step - accuracy: 0.9539 - loss: 0.1327 - val_accuracy: 0.9540 - val_loss: 0.2286\n",
      "Epoch 47/100\n",
      "\u001b[1m118/118\u001b[0m \u001b[32m━━━━━━━━━━━━━━━━━━━━\u001b[0m\u001b[37m\u001b[0m \u001b[1m59s\u001b[0m 484ms/step - accuracy: 0.9600 - loss: 0.1126 - val_accuracy: 0.9596 - val_loss: 0.2123\n",
      "Epoch 48/100\n",
      "\u001b[1m118/118\u001b[0m \u001b[32m━━━━━━━━━━━━━━━━━━━━\u001b[0m\u001b[37m\u001b[0m \u001b[1m59s\u001b[0m 488ms/step - accuracy: 0.9496 - loss: 0.1521 - val_accuracy: 0.9542 - val_loss: 0.2349\n",
      "Epoch 49/100\n",
      "\u001b[1m118/118\u001b[0m \u001b[32m━━━━━━━━━━━━━━━━━━━━\u001b[0m\u001b[37m\u001b[0m \u001b[1m59s\u001b[0m 485ms/step - accuracy: 0.9603 - loss: 0.1322 - val_accuracy: 0.9574 - val_loss: 0.2173\n",
      "Epoch 50/100\n",
      "\u001b[1m118/118\u001b[0m \u001b[32m━━━━━━━━━━━━━━━━━━━━\u001b[0m\u001b[37m\u001b[0m \u001b[1m58s\u001b[0m 484ms/step - accuracy: 0.9562 - loss: 0.1243 - val_accuracy: 0.9638 - val_loss: 0.1851\n",
      "Epoch 51/100\n",
      "\u001b[1m118/118\u001b[0m \u001b[32m━━━━━━━━━━━━━━━━━━━━\u001b[0m\u001b[37m\u001b[0m \u001b[1m58s\u001b[0m 483ms/step - accuracy: 0.9629 - loss: 0.1223 - val_accuracy: 0.9630 - val_loss: 0.1858\n",
      "Epoch 52/100\n",
      "\u001b[1m118/118\u001b[0m \u001b[32m━━━━━━━━━━━━━━━━━━━━\u001b[0m\u001b[37m\u001b[0m \u001b[1m58s\u001b[0m 481ms/step - accuracy: 0.9613 - loss: 0.1369 - val_accuracy: 0.9566 - val_loss: 0.1796\n",
      "Epoch 53/100\n",
      "\u001b[1m118/118\u001b[0m \u001b[32m━━━━━━━━━━━━━━━━━━━━\u001b[0m\u001b[37m\u001b[0m \u001b[1m58s\u001b[0m 483ms/step - accuracy: 0.9652 - loss: 0.0985 - val_accuracy: 0.9602 - val_loss: 0.1930\n",
      "Epoch 54/100\n",
      "\u001b[1m118/118\u001b[0m \u001b[32m━━━━━━━━━━━━━━━━━━━━\u001b[0m\u001b[37m\u001b[0m \u001b[1m58s\u001b[0m 480ms/step - accuracy: 0.9698 - loss: 0.0940 - val_accuracy: 0.9538 - val_loss: 0.2174\n",
      "Epoch 55/100\n",
      "\u001b[1m118/118\u001b[0m \u001b[32m━━━━━━━━━━━━━━━━━━━━\u001b[0m\u001b[37m\u001b[0m \u001b[1m58s\u001b[0m 479ms/step - accuracy: 0.9679 - loss: 0.1057 - val_accuracy: 0.9594 - val_loss: 0.2114\n",
      "Epoch 56/100\n",
      "\u001b[1m118/118\u001b[0m \u001b[32m━━━━━━━━━━━━━━━━━━━━\u001b[0m\u001b[37m\u001b[0m \u001b[1m60s\u001b[0m 499ms/step - accuracy: 0.9644 - loss: 0.1054 - val_accuracy: 0.9646 - val_loss: 0.2275\n",
      "Epoch 57/100\n",
      "\u001b[1m118/118\u001b[0m \u001b[32m━━━━━━━━━━━━━━━━━━━━\u001b[0m\u001b[37m\u001b[0m \u001b[1m59s\u001b[0m 489ms/step - accuracy: 0.9726 - loss: 0.0917 - val_accuracy: 0.9680 - val_loss: 0.1991\n",
      "Epoch 58/100\n",
      "\u001b[1m118/118\u001b[0m \u001b[32m━━━━━━━━━━━━━━━━━━━━\u001b[0m\u001b[37m\u001b[0m \u001b[1m58s\u001b[0m 486ms/step - accuracy: 0.9647 - loss: 0.1201 - val_accuracy: 0.9688 - val_loss: 0.1776\n",
      "Epoch 59/100\n",
      "\u001b[1m118/118\u001b[0m \u001b[32m━━━━━━━━━━━━━━━━━━━━\u001b[0m\u001b[37m\u001b[0m \u001b[1m60s\u001b[0m 499ms/step - accuracy: 0.9671 - loss: 0.1053 - val_accuracy: 0.9630 - val_loss: 0.1899\n",
      "Epoch 60/100\n",
      "\u001b[1m118/118\u001b[0m \u001b[32m━━━━━━━━━━━━━━━━━━━━\u001b[0m\u001b[37m\u001b[0m \u001b[1m573s\u001b[0m 5s/step - accuracy: 0.9715 - loss: 0.0874 - val_accuracy: 0.9552 - val_loss: 0.2304\n",
      "Epoch 61/100\n",
      "\u001b[1m118/118\u001b[0m \u001b[32m━━━━━━━━━━━━━━━━━━━━\u001b[0m\u001b[37m\u001b[0m \u001b[1m63s\u001b[0m 525ms/step - accuracy: 0.9589 - loss: 0.1287 - val_accuracy: 0.9640 - val_loss: 0.1850\n",
      "Epoch 62/100\n",
      "\u001b[1m118/118\u001b[0m \u001b[32m━━━━━━━━━━━━━━━━━━━━\u001b[0m\u001b[37m\u001b[0m \u001b[1m59s\u001b[0m 492ms/step - accuracy: 0.9717 - loss: 0.1052 - val_accuracy: 0.9678 - val_loss: 0.1870\n",
      "Epoch 63/100\n",
      "\u001b[1m118/118\u001b[0m \u001b[32m━━━━━━━━━━━━━━━━━━━━\u001b[0m\u001b[37m\u001b[0m \u001b[1m59s\u001b[0m 490ms/step - accuracy: 0.9694 - loss: 0.1038 - val_accuracy: 0.9624 - val_loss: 0.2077\n",
      "Epoch 64/100\n",
      "\u001b[1m118/118\u001b[0m \u001b[32m━━━━━━━━━━━━━━━━━━━━\u001b[0m\u001b[37m\u001b[0m \u001b[1m58s\u001b[0m 483ms/step - accuracy: 0.9733 - loss: 0.0790 - val_accuracy: 0.9646 - val_loss: 0.2382\n",
      "Epoch 65/100\n",
      "\u001b[1m118/118\u001b[0m \u001b[32m━━━━━━━━━━━━━━━━━━━━\u001b[0m\u001b[37m\u001b[0m \u001b[1m59s\u001b[0m 493ms/step - accuracy: 0.9702 - loss: 0.1013 - val_accuracy: 0.9632 - val_loss: 0.2121\n",
      "Epoch 66/100\n",
      "\u001b[1m118/118\u001b[0m \u001b[32m━━━━━━━━━━━━━━━━━━━━\u001b[0m\u001b[37m\u001b[0m \u001b[1m467s\u001b[0m 4s/step - accuracy: 0.9720 - loss: 0.0808 - val_accuracy: 0.9664 - val_loss: 0.2183\n",
      "Epoch 67/100\n",
      "\u001b[1m118/118\u001b[0m \u001b[32m━━━━━━━━━━━━━━━━━━━━\u001b[0m\u001b[37m\u001b[0m \u001b[1m58s\u001b[0m 481ms/step - accuracy: 0.9734 - loss: 0.0893 - val_accuracy: 0.9664 - val_loss: 0.2373\n",
      "Epoch 68/100\n",
      "\u001b[1m118/118\u001b[0m \u001b[32m━━━━━━━━━━━━━━━━━━━━\u001b[0m\u001b[37m\u001b[0m \u001b[1m58s\u001b[0m 482ms/step - accuracy: 0.9736 - loss: 0.0795 - val_accuracy: 0.9654 - val_loss: 0.2505\n",
      "Epoch 69/100\n",
      "\u001b[1m118/118\u001b[0m \u001b[32m━━━━━━━━━━━━━━━━━━━━\u001b[0m\u001b[37m\u001b[0m \u001b[1m59s\u001b[0m 486ms/step - accuracy: 0.9769 - loss: 0.0877 - val_accuracy: 0.9664 - val_loss: 0.2278\n",
      "Epoch 70/100\n",
      "\u001b[1m118/118\u001b[0m \u001b[32m━━━━━━━━━━━━━━━━━━━━\u001b[0m\u001b[37m\u001b[0m \u001b[1m60s\u001b[0m 493ms/step - accuracy: 0.9675 - loss: 0.1002 - val_accuracy: 0.9682 - val_loss: 0.2028\n",
      "Epoch 71/100\n",
      "\u001b[1m118/118\u001b[0m \u001b[32m━━━━━━━━━━━━━━━━━━━━\u001b[0m\u001b[37m\u001b[0m \u001b[1m7682s\u001b[0m 66s/step - accuracy: 0.9693 - loss: 0.0935 - val_accuracy: 0.9680 - val_loss: 0.2097\n",
      "Epoch 72/100\n",
      "\u001b[1m118/118\u001b[0m \u001b[32m━━━━━━━━━━━━━━━━━━━━\u001b[0m\u001b[37m\u001b[0m \u001b[1m70s\u001b[0m 580ms/step - accuracy: 0.9730 - loss: 0.1009 - val_accuracy: 0.9666 - val_loss: 0.1870\n",
      "Epoch 73/100\n",
      "\u001b[1m118/118\u001b[0m \u001b[32m━━━━━━━━━━━━━━━━━━━━\u001b[0m\u001b[37m\u001b[0m \u001b[1m69s\u001b[0m 564ms/step - accuracy: 0.9731 - loss: 0.0881 - val_accuracy: 0.9656 - val_loss: 0.2360\n",
      "Epoch 74/100\n",
      "\u001b[1m118/118\u001b[0m \u001b[32m━━━━━━━━━━━━━━━━━━━━\u001b[0m\u001b[37m\u001b[0m \u001b[1m63s\u001b[0m 522ms/step - accuracy: 0.9720 - loss: 0.0816 - val_accuracy: 0.9644 - val_loss: 0.2386\n",
      "Epoch 75/100\n",
      "\u001b[1m118/118\u001b[0m \u001b[32m━━━━━━━━━━━━━━━━━━━━\u001b[0m\u001b[37m\u001b[0m \u001b[1m63s\u001b[0m 524ms/step - accuracy: 0.9701 - loss: 0.0891 - val_accuracy: 0.9650 - val_loss: 0.2164\n",
      "Epoch 76/100\n",
      "\u001b[1m118/118\u001b[0m \u001b[32m━━━━━━━━━━━━━━━━━━━━\u001b[0m\u001b[37m\u001b[0m \u001b[1m70s\u001b[0m 565ms/step - accuracy: 0.9731 - loss: 0.0980 - val_accuracy: 0.9596 - val_loss: 0.2364\n",
      "Epoch 77/100\n",
      "\u001b[1m118/118\u001b[0m \u001b[32m━━━━━━━━━━━━━━━━━━━━\u001b[0m\u001b[37m\u001b[0m \u001b[1m66s\u001b[0m 550ms/step - accuracy: 0.9654 - loss: 0.1048 - val_accuracy: 0.9672 - val_loss: 0.2094\n",
      "Epoch 78/100\n",
      "\u001b[1m118/118\u001b[0m \u001b[32m━━━━━━━━━━━━━━━━━━━━\u001b[0m\u001b[37m\u001b[0m \u001b[1m63s\u001b[0m 526ms/step - accuracy: 0.9789 - loss: 0.0571 - val_accuracy: 0.9682 - val_loss: 0.2348\n",
      "Epoch 79/100\n",
      "\u001b[1m118/118\u001b[0m \u001b[32m━━━━━━━━━━━━━━━━━━━━\u001b[0m\u001b[37m\u001b[0m \u001b[1m59s\u001b[0m 490ms/step - accuracy: 0.9748 - loss: 0.0750 - val_accuracy: 0.9678 - val_loss: 0.2270\n",
      "Epoch 80/100\n",
      "\u001b[1m118/118\u001b[0m \u001b[32m━━━━━━━━━━━━━━━━━━━━\u001b[0m\u001b[37m\u001b[0m \u001b[1m59s\u001b[0m 486ms/step - accuracy: 0.9700 - loss: 0.0960 - val_accuracy: 0.9622 - val_loss: 0.2686\n",
      "Epoch 81/100\n",
      "\u001b[1m118/118\u001b[0m \u001b[32m━━━━━━━━━━━━━━━━━━━━\u001b[0m\u001b[37m\u001b[0m \u001b[1m58s\u001b[0m 482ms/step - accuracy: 0.9755 - loss: 0.0919 - val_accuracy: 0.9612 - val_loss: 0.2756\n",
      "Epoch 82/100\n",
      "\u001b[1m118/118\u001b[0m \u001b[32m━━━━━━━━━━━━━━━━━━━━\u001b[0m\u001b[37m\u001b[0m \u001b[1m59s\u001b[0m 484ms/step - accuracy: 0.9744 - loss: 0.1038 - val_accuracy: 0.9648 - val_loss: 0.2508\n",
      "Epoch 83/100\n",
      "\u001b[1m118/118\u001b[0m \u001b[32m━━━━━━━━━━━━━━━━━━━━\u001b[0m\u001b[37m\u001b[0m \u001b[1m58s\u001b[0m 477ms/step - accuracy: 0.9804 - loss: 0.0781 - val_accuracy: 0.9680 - val_loss: 0.2231\n",
      "Epoch 84/100\n",
      "\u001b[1m118/118\u001b[0m \u001b[32m━━━━━━━━━━━━━━━━━━━━\u001b[0m\u001b[37m\u001b[0m \u001b[1m58s\u001b[0m 482ms/step - accuracy: 0.9766 - loss: 0.0748 - val_accuracy: 0.9648 - val_loss: 0.2469\n",
      "Epoch 85/100\n",
      "\u001b[1m118/118\u001b[0m \u001b[32m━━━━━━━━━━━━━━━━━━━━\u001b[0m\u001b[37m\u001b[0m \u001b[1m58s\u001b[0m 483ms/step - accuracy: 0.9775 - loss: 0.0645 - val_accuracy: 0.9658 - val_loss: 0.2576\n",
      "Epoch 86/100\n",
      "\u001b[1m118/118\u001b[0m \u001b[32m━━━━━━━━━━━━━━━━━━━━\u001b[0m\u001b[37m\u001b[0m \u001b[1m58s\u001b[0m 480ms/step - accuracy: 0.9806 - loss: 0.0599 - val_accuracy: 0.9690 - val_loss: 0.2214\n",
      "Epoch 87/100\n",
      "\u001b[1m118/118\u001b[0m \u001b[32m━━━━━━━━━━━━━━━━━━━━\u001b[0m\u001b[37m\u001b[0m \u001b[1m58s\u001b[0m 481ms/step - accuracy: 0.9828 - loss: 0.0569 - val_accuracy: 0.9592 - val_loss: 0.3174\n",
      "Epoch 88/100\n",
      "\u001b[1m118/118\u001b[0m \u001b[32m━━━━━━━━━━━━━━━━━━━━\u001b[0m\u001b[37m\u001b[0m \u001b[1m58s\u001b[0m 480ms/step - accuracy: 0.9751 - loss: 0.0791 - val_accuracy: 0.9680 - val_loss: 0.2460\n",
      "Epoch 89/100\n",
      "\u001b[1m118/118\u001b[0m \u001b[32m━━━━━━━━━━━━━━━━━━━━\u001b[0m\u001b[37m\u001b[0m \u001b[1m59s\u001b[0m 486ms/step - accuracy: 0.9711 - loss: 0.0933 - val_accuracy: 0.9692 - val_loss: 0.2436\n",
      "Epoch 90/100\n",
      "\u001b[1m118/118\u001b[0m \u001b[32m━━━━━━━━━━━━━━━━━━━━\u001b[0m\u001b[37m\u001b[0m \u001b[1m58s\u001b[0m 478ms/step - accuracy: 0.9793 - loss: 0.0780 - val_accuracy: 0.9660 - val_loss: 0.2620\n",
      "Epoch 91/100\n",
      "\u001b[1m118/118\u001b[0m \u001b[32m━━━━━━━━━━━━━━━━━━━━\u001b[0m\u001b[37m\u001b[0m \u001b[1m59s\u001b[0m 484ms/step - accuracy: 0.9701 - loss: 0.0982 - val_accuracy: 0.9662 - val_loss: 0.2832\n",
      "Epoch 92/100\n",
      "\u001b[1m118/118\u001b[0m \u001b[32m━━━━━━━━━━━━━━━━━━━━\u001b[0m\u001b[37m\u001b[0m \u001b[1m58s\u001b[0m 484ms/step - accuracy: 0.9758 - loss: 0.0838 - val_accuracy: 0.9684 - val_loss: 0.2647\n",
      "Epoch 93/100\n",
      "\u001b[1m118/118\u001b[0m \u001b[32m━━━━━━━━━━━━━━━━━━━━\u001b[0m\u001b[37m\u001b[0m \u001b[1m59s\u001b[0m 489ms/step - accuracy: 0.9770 - loss: 0.0642 - val_accuracy: 0.9620 - val_loss: 0.2566\n",
      "Epoch 94/100\n",
      "\u001b[1m118/118\u001b[0m \u001b[32m━━━━━━━━━━━━━━━━━━━━\u001b[0m\u001b[37m\u001b[0m \u001b[1m59s\u001b[0m 492ms/step - accuracy: 0.9760 - loss: 0.0912 - val_accuracy: 0.9664 - val_loss: 0.2485\n",
      "Epoch 95/100\n",
      "\u001b[1m118/118\u001b[0m \u001b[32m━━━━━━━━━━━━━━━━━━━━\u001b[0m\u001b[37m\u001b[0m \u001b[1m58s\u001b[0m 484ms/step - accuracy: 0.9836 - loss: 0.0680 - val_accuracy: 0.9670 - val_loss: 0.2633\n",
      "Epoch 96/100\n",
      "\u001b[1m118/118\u001b[0m \u001b[32m━━━━━━━━━━━━━━━━━━━━\u001b[0m\u001b[37m\u001b[0m \u001b[1m59s\u001b[0m 485ms/step - accuracy: 0.9852 - loss: 0.0564 - val_accuracy: 0.9674 - val_loss: 0.2625\n",
      "Epoch 97/100\n",
      "\u001b[1m118/118\u001b[0m \u001b[32m━━━━━━━━━━━━━━━━━━━━\u001b[0m\u001b[37m\u001b[0m \u001b[1m59s\u001b[0m 482ms/step - accuracy: 0.9786 - loss: 0.0866 - val_accuracy: 0.9674 - val_loss: 0.2636\n",
      "Epoch 98/100\n",
      "\u001b[1m118/118\u001b[0m \u001b[32m━━━━━━━━━━━━━━━━━━━━\u001b[0m\u001b[37m\u001b[0m \u001b[1m58s\u001b[0m 474ms/step - accuracy: 0.9785 - loss: 0.0822 - val_accuracy: 0.9674 - val_loss: 0.2598\n",
      "Epoch 99/100\n",
      "\u001b[1m118/118\u001b[0m \u001b[32m━━━━━━━━━━━━━━━━━━━━\u001b[0m\u001b[37m\u001b[0m \u001b[1m58s\u001b[0m 483ms/step - accuracy: 0.9781 - loss: 0.0678 - val_accuracy: 0.9676 - val_loss: 0.2629\n",
      "Epoch 100/100\n",
      "\u001b[1m118/118\u001b[0m \u001b[32m━━━━━━━━━━━━━━━━━━━━\u001b[0m\u001b[37m\u001b[0m \u001b[1m59s\u001b[0m 485ms/step - accuracy: 0.9837 - loss: 0.0645 - val_accuracy: 0.9648 - val_loss: 0.2713\n"
     ]
    },
    {
     "data": {
      "text/plain": [
       "<keras.src.callbacks.history.History at 0x26a8f6bdc10>"
      ]
     },
     "execution_count": 29,
     "metadata": {},
     "output_type": "execute_result"
    }
   ],
   "source": [
    "cnn.fit(x=training_set, validation_data=test_set, epochs=100)"
   ]
  },
  {
   "cell_type": "code",
   "execution_count": 30,
   "id": "d8f458fb-1726-4195-8a8c-de7f34aeee35",
   "metadata": {},
   "outputs": [
    {
     "name": "stdout",
     "output_type": "stream",
     "text": [
      "Epoch 1/10\n",
      "\u001b[1m118/118\u001b[0m \u001b[32m━━━━━━━━━━━━━━━━━━━━\u001b[0m\u001b[37m\u001b[0m \u001b[1m65s\u001b[0m 542ms/step - accuracy: 0.9840 - loss: 0.0725 - val_accuracy: 0.9666 - val_loss: 0.2748\n",
      "Epoch 2/10\n",
      "\u001b[1m118/118\u001b[0m \u001b[32m━━━━━━━━━━━━━━━━━━━━\u001b[0m\u001b[37m\u001b[0m \u001b[1m58s\u001b[0m 479ms/step - accuracy: 0.9800 - loss: 0.0845 - val_accuracy: 0.9674 - val_loss: 0.3167\n",
      "Epoch 3/10\n",
      "\u001b[1m118/118\u001b[0m \u001b[32m━━━━━━━━━━━━━━━━━━━━\u001b[0m\u001b[37m\u001b[0m \u001b[1m57s\u001b[0m 475ms/step - accuracy: 0.9793 - loss: 0.0679 - val_accuracy: 0.9658 - val_loss: 0.2786\n",
      "Epoch 4/10\n",
      "\u001b[1m118/118\u001b[0m \u001b[32m━━━━━━━━━━━━━━━━━━━━\u001b[0m\u001b[37m\u001b[0m \u001b[1m58s\u001b[0m 476ms/step - accuracy: 0.9749 - loss: 0.0849 - val_accuracy: 0.9684 - val_loss: 0.2436\n",
      "Epoch 5/10\n",
      "\u001b[1m118/118\u001b[0m \u001b[32m━━━━━━━━━━━━━━━━━━━━\u001b[0m\u001b[37m\u001b[0m \u001b[1m58s\u001b[0m 483ms/step - accuracy: 0.9809 - loss: 0.0765 - val_accuracy: 0.9686 - val_loss: 0.2435\n",
      "Epoch 6/10\n",
      "\u001b[1m118/118\u001b[0m \u001b[32m━━━━━━━━━━━━━━━━━━━━\u001b[0m\u001b[37m\u001b[0m \u001b[1m58s\u001b[0m 479ms/step - accuracy: 0.9824 - loss: 0.0634 - val_accuracy: 0.9648 - val_loss: 0.2880\n",
      "Epoch 7/10\n",
      "\u001b[1m118/118\u001b[0m \u001b[32m━━━━━━━━━━━━━━━━━━━━\u001b[0m\u001b[37m\u001b[0m \u001b[1m67s\u001b[0m 556ms/step - accuracy: 0.9745 - loss: 0.1076 - val_accuracy: 0.9664 - val_loss: 0.2866\n",
      "Epoch 8/10\n",
      "\u001b[1m118/118\u001b[0m \u001b[32m━━━━━━━━━━━━━━━━━━━━\u001b[0m\u001b[37m\u001b[0m \u001b[1m57s\u001b[0m 471ms/step - accuracy: 0.9819 - loss: 0.0584 - val_accuracy: 0.9690 - val_loss: 0.2497\n",
      "Epoch 9/10\n",
      "\u001b[1m118/118\u001b[0m \u001b[32m━━━━━━━━━━━━━━━━━━━━\u001b[0m\u001b[37m\u001b[0m \u001b[1m58s\u001b[0m 482ms/step - accuracy: 0.9823 - loss: 0.0684 - val_accuracy: 0.9632 - val_loss: 0.3000\n",
      "Epoch 10/10\n",
      "\u001b[1m118/118\u001b[0m \u001b[32m━━━━━━━━━━━━━━━━━━━━\u001b[0m\u001b[37m\u001b[0m \u001b[1m58s\u001b[0m 473ms/step - accuracy: 0.9737 - loss: 0.1221 - val_accuracy: 0.9668 - val_loss: 0.2820\n"
     ]
    },
    {
     "data": {
      "text/plain": [
       "<keras.src.callbacks.history.History at 0x26af48427d0>"
      ]
     },
     "execution_count": 30,
     "metadata": {},
     "output_type": "execute_result"
    }
   ],
   "source": [
    "cnn.fit(x=training_set, validation_data=test_set, epochs=10)"
   ]
  },
  {
   "cell_type": "code",
   "execution_count": 31,
   "id": "66399475-ef4a-4857-aa6a-073ab165a06d",
   "metadata": {},
   "outputs": [],
   "source": [
    "#Preprocess new image"
   ]
  },
  {
   "cell_type": "code",
   "execution_count": 114,
   "id": "ea839ab4-7cca-4aed-a3dc-07930afc94a3",
   "metadata": {},
   "outputs": [
    {
     "name": "stdout",
     "output_type": "stream",
     "text": [
      "\u001b[1m1/1\u001b[0m \u001b[32m━━━━━━━━━━━━━━━━━━━━\u001b[0m\u001b[37m\u001b[0m \u001b[1m0s\u001b[0m 171ms/step\n"
     ]
    }
   ],
   "source": [
    "from keras.preprocessing import image\n",
    "test_image = image.load_img('prediction/38.jpeg', \n",
    "                            target_size = (64, 64))\n",
    "test_image = image.img_to_array(test_image)\n",
    "test_image = np.expand_dims(test_image, \n",
    "                            axis = 0)\n",
    "result = cnn.predict(test_image)"
   ]
  },
  {
   "cell_type": "code",
   "execution_count": 110,
   "id": "61487f80-e0b6-41d2-ba47-868a798677c6",
   "metadata": {},
   "outputs": [
    {
     "data": {
      "text/plain": [
       "{'lilly': 0, 'lotus': 1, 'orchid': 2, 'sunflower': 3, 'tulip': 4}"
      ]
     },
     "execution_count": 110,
     "metadata": {},
     "output_type": "execute_result"
    }
   ],
   "source": [
    "training_set.class_indices"
   ]
  },
  {
   "cell_type": "code",
   "execution_count": 111,
   "id": "2d154543-4ca1-494b-b18f-5f2e0031c3d8",
   "metadata": {},
   "outputs": [
    {
     "name": "stdout",
     "output_type": "stream",
     "text": [
      "[[0. 0. 0. 0. 1.]]\n"
     ]
    }
   ],
   "source": [
    "print(result)"
   ]
  },
  {
   "cell_type": "code",
   "execution_count": 115,
   "id": "d0b8b36f-5084-4d84-a505-efddd20df551",
   "metadata": {},
   "outputs": [
    {
     "name": "stdout",
     "output_type": "stream",
     "text": [
      "Tulip\n"
     ]
    }
   ],
   "source": [
    "if result[0][0] == 1:\n",
    "    print('Lilly')\n",
    "elif result[0][1] == 1:\n",
    "    print('Lotus')\n",
    "elif result[0][2] == 1:\n",
    "    print('Orchid')\n",
    "elif result[0][3] == 1:\n",
    "    print('Sunflower')\n",
    "elif result[0][4] == 1:\n",
    "    print('Tulip')"
   ]
  },
  {
   "cell_type": "code",
   "execution_count": null,
   "id": "ea95a2ea-c762-4604-8d73-bc05c86032d5",
   "metadata": {},
   "outputs": [],
   "source": []
  }
 ],
 "metadata": {
  "kernelspec": {
   "display_name": "Python 3 (ipykernel)",
   "language": "python",
   "name": "python3"
  },
  "language_info": {
   "codemirror_mode": {
    "name": "ipython",
    "version": 3
   },
   "file_extension": ".py",
   "mimetype": "text/x-python",
   "name": "python",
   "nbconvert_exporter": "python",
   "pygments_lexer": "ipython3",
   "version": "3.11.5"
  }
 },
 "nbformat": 4,
 "nbformat_minor": 5
}
